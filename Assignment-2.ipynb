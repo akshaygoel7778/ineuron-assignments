{
 "cells": [
  {
   "cell_type": "markdown",
   "id": "7e2cb8e9",
   "metadata": {},
   "source": [
    "#### name-Akshay Goel\n",
    "#### Email-akshaygoel8302@gmail.com\n",
    "#### mobile number-9582530654"
   ]
  },
  {
   "cell_type": "code",
   "execution_count": 1,
   "id": "258643d8",
   "metadata": {},
   "outputs": [
    {
     "data": {
      "text/plain": [
       "'WAP to accept an integer from the user and check\\nwhether it is an even or odd'"
      ]
     },
     "execution_count": 1,
     "metadata": {},
     "output_type": "execute_result"
    }
   ],
   "source": [
    "#question 1\n",
    "\"\"\"WAP to accept an integer from the user and check\n",
    "whether it is an even or odd\"\"\""
   ]
  },
  {
   "cell_type": "code",
   "execution_count": 2,
   "id": "0e9cea4d",
   "metadata": {},
   "outputs": [
    {
     "name": "stdout",
     "output_type": "stream",
     "text": [
      "enter the integer46\n",
      "integer is even\n"
     ]
    }
   ],
   "source": [
    "\n",
    "a=int(input('enter the integer'))\n",
    "if a%2==0:\n",
    "    print('integer is even')\n",
    "else:\n",
    "    print('integer is odd')"
   ]
  },
  {
   "cell_type": "code",
   "execution_count": 3,
   "id": "5dd77c8b",
   "metadata": {},
   "outputs": [
    {
     "data": {
      "text/plain": [
       "'WAP to accept a character from the user and check\\nwhether it is a capital letter or small letter. Assume\\nuser will input only alphabets'"
      ]
     },
     "execution_count": 3,
     "metadata": {},
     "output_type": "execute_result"
    }
   ],
   "source": [
    "# question 2\n",
    "\"\"\"WAP to accept a character from the user and check\n",
    "whether it is a capital letter or small letter. Assume\n",
    "user will input only alphabets\"\"\""
   ]
  },
  {
   "cell_type": "code",
   "execution_count": 4,
   "id": "a1234753",
   "metadata": {},
   "outputs": [
    {
     "name": "stdout",
     "output_type": "stream",
     "text": [
      "enter the alphabetf\n",
      "small letter\n"
     ]
    }
   ],
   "source": [
    "a=str(input('enter the alphabet'))\n",
    "if a.isupper():\n",
    "    print('capital letter')\n",
    "else:\n",
    "    print('small letter')"
   ]
  },
  {
   "cell_type": "code",
   "execution_count": null,
   "id": "52acd432",
   "metadata": {},
   "outputs": [],
   "source": [
    "#another way\n",
    "try:\n",
    "    \n",
    "    al=str(input('enter the letter or alphabet'))\n",
    "    if ord(al)>=97 and ord(al)<=122:\n",
    "        print('letter is lowercase')\n",
    "        \n",
    "    elif ord(al)>=65 and ord(al)<=90:\n",
    "        print('letter is upper case')\n",
    "        \n",
    "    else:\n",
    "        print('invalid input')\n",
    "        \n",
    "        \n",
    "except Exception as e:\n",
    "    print(e)\n",
    "        "
   ]
  },
  {
   "cell_type": "code",
   "execution_count": null,
   "id": "e818eb5e",
   "metadata": {},
   "outputs": [],
   "source": [
    "#question 3\n",
    "\"\"\"● WAP to accept a character from the user and check\n",
    "whether it is a capital letter or small letter or a digit\n",
    "or some special symbol\"\"\""
   ]
  },
  {
   "cell_type": "code",
   "execution_count": null,
   "id": "38b039c9",
   "metadata": {},
   "outputs": [],
   "source": [
    "try:\n",
    "    a=input('enter the character')\n",
    "    if (ord(a)>=65 and ord(a)<=90):\n",
    "        print('letter in uppercase alphabet')\n",
    "    elif (ord(a)>=97 and ord(a)<=122):\n",
    "        print('character is a lowercase alphabet')\n",
    "    elif (ord(a)>=0 and ord(a)<=47) or (ord(a)>=58 and ord(a)<=64) or (ord(a)>=91 and ord(a)<=96) or (ord(a)>=123 and ord(a)<=127):\n",
    "        print('character is a special character')\n",
    "    elif ord(a)>=48 and ord(a)<=57:\n",
    "        print('character is a digit')\n",
    "    else:\n",
    "        print('invalid input')\n",
    "        \n",
    "except Exception as e:\n",
    "    print(e)\n",
    "    "
   ]
  },
  {
   "cell_type": "code",
   "execution_count": null,
   "id": "53a0141d",
   "metadata": {},
   "outputs": [],
   "source": [
    "#question 4\n",
    "\"\"\"WAP to accept 3 integers from the user and without\n",
    "using any logical operator and cascading of\n",
    "relational operators , find out the greatest number\n",
    "amongst them\"\"\""
   ]
  },
  {
   "cell_type": "code",
   "execution_count": null,
   "id": "a352f01c",
   "metadata": {},
   "outputs": [],
   "source": [
    "a,b,c=[int(a) for a in input('enter the values of three integer').split()]\n",
    "l=[]\n",
    "l.extend([a,b,c])\n",
    "print(max(l))\n",
    "\n"
   ]
  },
  {
   "cell_type": "code",
   "execution_count": null,
   "id": "d91e55ba",
   "metadata": {},
   "outputs": [],
   "source": [
    "#another way\n",
    "a,b,c=map(int,input().split())\n",
    "\n",
    "def maximum(a,b,c):\n",
    "    d=0\n",
    "    while(a or b or c):\n",
    "        \n",
    "        if(a):\n",
    "            a-=1\n",
    "        if(b):\n",
    "            b-=1\n",
    "        if(c):\n",
    "            c-=1\n",
    "        d+=1\n",
    "        \n",
    "    return d\n",
    "\n",
    "\n",
    "\n",
    "\n",
    "\n"
   ]
  },
  {
   "cell_type": "code",
   "execution_count": null,
   "id": "50dbaccc",
   "metadata": {},
   "outputs": [],
   "source": [
    "#question 5\n",
    "\"\"\"● WAP to accept a character from the user and check\n",
    "whether it is a capital letter or small letter or a digit\n",
    "or some special symbol\n",
    "● WAP to accept 3 integers from the user and without\n",
    "using any logical operator and cascading of\n",
    "relational operators , find out the greatest number\n",
    "amongst them\n",
    "—--------------------------------------------------------------\n",
    "● WAP to accept a year from the user and check\n",
    "whether it is a leap year or not.\n",
    "An year is a leap year if:\n",
    "It is exactly divisible by 4 and at the same time\n",
    "not\n",
    "divisible by 100\"\"\""
   ]
  },
  {
   "cell_type": "code",
   "execution_count": null,
   "id": "6abde068",
   "metadata": {},
   "outputs": [],
   "source": [
    "try:\n",
    "    year=int(input('enter the year to check'))\n",
    "    if len(str(year))==4:\n",
    "        \n",
    "        if (year%4==0) and (year%100==0) and (year%400==0):\n",
    "            print('it is a leap year')\n",
    "        elif year%4==0 and year%100!=0:\n",
    "            print('it is a leap year')\n",
    "        else:\n",
    "            print('it is not a leap year')\n",
    "    else:\n",
    "        print('please enter the correct year')\n",
    "        \n",
    "except:\n",
    "    print('invalid input')\n",
    "        \n",
    "        "
   ]
  },
  {
   "cell_type": "code",
   "execution_count": null,
   "id": "3490544b",
   "metadata": {},
   "outputs": [],
   "source": [
    "#question 6\n",
    "\"\"\"\n",
    "● You have to develop a number guessing game\"\"\""
   ]
  },
  {
   "cell_type": "code",
   "execution_count": null,
   "id": "1a5ae438",
   "metadata": {},
   "outputs": [],
   "source": [
    "import random\n",
    "a=random.randint(0,10)\n",
    "\n",
    "b=1\n",
    "try:\n",
    "    while b>0 and b<2:\n",
    "        c=int(input('enter the number between 1 and 10'))\n",
    "        if c>=0 and c<=10:\n",
    "            if c==a:\n",
    "                print('successful')\n",
    "                break\n",
    "            else:\n",
    "                print('enter 1 to try again or press 0 or a negative number to quit')\n",
    "                b=int(input())\n",
    "        else:\n",
    "            print('invalid input')\n",
    "except:\n",
    "    print('you did something wrong')\n",
    "        "
   ]
  },
  {
   "cell_type": "code",
   "execution_count": null,
   "id": "b7127ef5",
   "metadata": {},
   "outputs": [],
   "source": [
    "#question 7\n",
    "\"\"\"Write a program to accept a string from the user and\n",
    "display it vertically but don’t display the vowels in it\"\"\""
   ]
  },
  {
   "cell_type": "code",
   "execution_count": null,
   "id": "32780c16",
   "metadata": {},
   "outputs": [],
   "source": [
    "\n",
    "\n",
    "vowels='aeiou'\n",
    "inputchar=str(input('enter the input string'))\n",
    "for word in inputchar:\n",
    "    if word in vowels:\n",
    "        continue\n",
    "    else:\n",
    "        print(word)\n",
    "        "
   ]
  },
  {
   "cell_type": "code",
   "execution_count": null,
   "id": "19785eb6",
   "metadata": {},
   "outputs": [],
   "source": [
    "# question 8\n",
    "\"\"\"Write a program to continuously accept integers from the\n",
    "user until the user types 0 and as soon as 0 is entered\n",
    "display sum of all the nos entered before 0\"\"\""
   ]
  },
  {
   "cell_type": "code",
   "execution_count": null,
   "id": "c14cbb64",
   "metadata": {},
   "outputs": [],
   "source": [
    "try:\n",
    "    b=0\n",
    "    a=1\n",
    "    while a!=0:\n",
    "        \n",
    "        \n",
    "        a=int(input('enter the integers'))\n",
    "        b=b+a\n",
    "        \n",
    "    print(b)\n",
    "except:\n",
    "    print('worng input')\n",
    "        "
   ]
  },
  {
   "cell_type": "code",
   "execution_count": null,
   "id": "7346d22a",
   "metadata": {},
   "outputs": [],
   "source": [
    "#modified answer\n",
    "try:\n",
    "    b=0\n",
    "    a=1\n",
    "    while a!=0:\n",
    "        \n",
    "        \n",
    "        a=int(input('enter the integers'))\n",
    "        if a<0:\n",
    "            continue\n",
    "        else:\n",
    "            b=b+a\n",
    "        \n",
    "    print(b)\n",
    "except:\n",
    "    print('worng input')"
   ]
  },
  {
   "cell_type": "code",
   "execution_count": null,
   "id": "efe984b9",
   "metadata": {},
   "outputs": [],
   "source": [
    "# question 9\n",
    "\"\"\"Write a program to accept an integer from the user and display the\n",
    "sum of all the numbers from 1 to that number.\"\"\""
   ]
  },
  {
   "cell_type": "code",
   "execution_count": null,
   "id": "1ccd24dc",
   "metadata": {},
   "outputs": [],
   "source": [
    "a=int(input('enter the integer'))\n",
    "b=0\n",
    "for i in range(0,a+1):\n",
    "    b=b+i\n",
    "    \n",
    "print(b)"
   ]
  },
  {
   "cell_type": "code",
   "execution_count": null,
   "id": "d2f1ec46",
   "metadata": {},
   "outputs": [],
   "source": [
    "#alternate way\n",
    "a=int(input('enter the integer'))\n",
    "b=0\n",
    "c=0\n",
    "while c<=a:\n",
    "    b=b+c\n",
    "    c+=1\n",
    "print(b)\n",
    "    \n"
   ]
  },
  {
   "cell_type": "code",
   "execution_count": null,
   "id": "972246db",
   "metadata": {},
   "outputs": [],
   "source": [
    "# question 10\n",
    "\"\"\"\n",
    "● Write a program to accept an integer from the user and calculate\n",
    "its factorial\"\"\""
   ]
  },
  {
   "cell_type": "code",
   "execution_count": null,
   "id": "4dd2be4e",
   "metadata": {},
   "outputs": [],
   "source": [
    "a=int(input('enter the integer to calculate the factorial'))\n",
    "if a<0:\n",
    "    print('not for negative number')\n",
    "elif a==0:\n",
    "    print(\"factorial is 1\")\n",
    "else:\n",
    "    b=1\n",
    "    for i in range(1,a+1):\n",
    "        b=b*i\n",
    "        \n",
    "    print(b)"
   ]
  },
  {
   "cell_type": "code",
   "execution_count": null,
   "id": "2ce0f35f",
   "metadata": {},
   "outputs": [],
   "source": [
    "#pattern questions"
   ]
  },
  {
   "cell_type": "code",
   "execution_count": null,
   "id": "cc0cd103",
   "metadata": {},
   "outputs": [],
   "source": [
    "a=4\n",
    "for i in range(a):\n",
    "    for k in range(1,a):\n",
    "        \n",
    "        print('*',end=\" \")\n",
    "    print()"
   ]
  },
  {
   "cell_type": "code",
   "execution_count": null,
   "id": "9a966fc5",
   "metadata": {},
   "outputs": [],
   "source": [
    "# second pattern"
   ]
  },
  {
   "cell_type": "code",
   "execution_count": null,
   "id": "d0357f25",
   "metadata": {},
   "outputs": [],
   "source": [
    "a=5\n",
    "for i in range(a):\n",
    "    for j in range(i,a):\n",
    "        print(\"*\",end=\" \")\n",
    "    print()"
   ]
  },
  {
   "cell_type": "code",
   "execution_count": null,
   "id": "7f067a7f",
   "metadata": {},
   "outputs": [],
   "source": [
    "#third pattern"
   ]
  },
  {
   "cell_type": "code",
   "execution_count": null,
   "id": "38d5caa7",
   "metadata": {},
   "outputs": [],
   "source": [
    "a=5\n",
    "for i in range(a):\n",
    "    for j in range(i):\n",
    "        print(\"*\",end=\" \")\n",
    "    print()"
   ]
  },
  {
   "cell_type": "code",
   "execution_count": null,
   "id": "5866755c",
   "metadata": {},
   "outputs": [],
   "source": [
    "#last question\n",
    "\"\"\"Write a program to accept an integer from the user and\n",
    "display all the numbers from 1 to that number. Repeat the\n",
    "process until the user enters 0.\"\"\""
   ]
  },
  {
   "cell_type": "code",
   "execution_count": null,
   "id": "e1a1a65d",
   "metadata": {},
   "outputs": [
    {
     "name": "stdout",
     "output_type": "stream",
     "text": [
      "enter the number85\n",
      "0\n",
      "1\n",
      "2\n",
      "3\n",
      "4\n",
      "5\n",
      "6\n",
      "7\n",
      "8\n",
      "9\n",
      "10\n",
      "11\n",
      "12\n",
      "13\n",
      "14\n",
      "15\n",
      "16\n",
      "17\n",
      "18\n",
      "19\n",
      "20\n",
      "21\n",
      "22\n",
      "23\n",
      "24\n",
      "25\n",
      "26\n",
      "27\n",
      "28\n",
      "29\n",
      "30\n",
      "31\n",
      "32\n",
      "33\n",
      "34\n",
      "35\n",
      "36\n",
      "37\n",
      "38\n",
      "39\n",
      "40\n",
      "41\n",
      "42\n",
      "43\n",
      "44\n",
      "45\n",
      "46\n",
      "47\n",
      "48\n",
      "49\n",
      "50\n",
      "51\n",
      "52\n",
      "53\n",
      "54\n",
      "55\n",
      "56\n",
      "57\n",
      "58\n",
      "59\n",
      "60\n",
      "61\n",
      "62\n",
      "63\n",
      "64\n",
      "65\n",
      "66\n",
      "67\n",
      "68\n",
      "69\n",
      "70\n",
      "71\n",
      "72\n",
      "73\n",
      "74\n",
      "75\n",
      "76\n",
      "77\n",
      "78\n",
      "79\n",
      "80\n",
      "81\n",
      "82\n",
      "83\n",
      "84\n",
      "85\n"
     ]
    }
   ],
   "source": [
    "a=int(input('enter the number'))\n",
    "b=0\n",
    "while True:\n",
    "    \n",
    "    while b<=a:\n",
    "        if a==0:\n",
    "            break\n",
    "        else:\n",
    "            print(b)\n",
    "            b+=1\n",
    "        \n",
    "        "
   ]
  },
  {
   "cell_type": "code",
   "execution_count": null,
   "id": "a9f161fd",
   "metadata": {},
   "outputs": [],
   "source": []
  }
 ],
 "metadata": {
  "kernelspec": {
   "display_name": "Python 3 (ipykernel)",
   "language": "python",
   "name": "python3"
  },
  "language_info": {
   "codemirror_mode": {
    "name": "ipython",
    "version": 3
   },
   "file_extension": ".py",
   "mimetype": "text/x-python",
   "name": "python",
   "nbconvert_exporter": "python",
   "pygments_lexer": "ipython3",
   "version": "3.9.13"
  }
 },
 "nbformat": 4,
 "nbformat_minor": 5
}
