{
 "cells": [
  {
   "cell_type": "markdown",
   "id": "31a6a3c4",
   "metadata": {},
   "source": [
    "#### name-Akshay Goel\n",
    "#### Email-akshaygoel8302@gmail.com\n",
    "#### mobile number-9582530654"
   ]
  },
  {
   "cell_type": "code",
   "execution_count": 1,
   "id": "ba1e6b31",
   "metadata": {},
   "outputs": [],
   "source": [
    "# question-1\n",
    "#WAP to accept two numbers from the user and display their sum"
   ]
  },
  {
   "cell_type": "code",
   "execution_count": 2,
   "id": "37ea53ab",
   "metadata": {},
   "outputs": [
    {
     "name": "stdout",
     "output_type": "stream",
     "text": [
      "enter the first number58\n",
      "enter the second number456\n",
      "514\n"
     ]
    }
   ],
   "source": [
    "a=int(input('enter the first number'))\n",
    "b=int(input('enter the second number'))\n",
    "print(a+b)"
   ]
  },
  {
   "cell_type": "code",
   "execution_count": 4,
   "id": "6bb4d7a0",
   "metadata": {},
   "outputs": [
    {
     "name": "stdout",
     "output_type": "stream",
     "text": [
      "enter first number58\n",
      "enter second number959\n",
      "1017\n"
     ]
    }
   ],
   "source": [
    "#with exception handling:\n",
    "try:\n",
    "    a=int(input('enter first number'))\n",
    "    b=int(input('enter second number'))\n",
    "    print(a+b)\n",
    "    \n",
    "except Exception as e:\n",
    "    print(e)"
   ]
  },
  {
   "cell_type": "code",
   "execution_count": 5,
   "id": "1d44d2cd",
   "metadata": {},
   "outputs": [],
   "source": [
    "# question2\n",
    "#WAP to accept radius of a Circle from the user and calculate area and circumference"
   ]
  },
  {
   "cell_type": "code",
   "execution_count": 9,
   "id": "721c1f55",
   "metadata": {},
   "outputs": [
    {
     "name": "stdout",
     "output_type": "stream",
     "text": [
      "enter the radius of the circle5\n",
      "the circumference is 31.400000000000002\n",
      "the area of circle is 78.5\n"
     ]
    }
   ],
   "source": [
    "try:\n",
    "    r=int(input('enter the radius of the circle'))\n",
    "    c=2*3.14*r\n",
    "    print('the circumference is {0}'.format(c))\n",
    "    area=3.14*r*r\n",
    "    print(f\"the area of circle is {area}\")\n",
    "    \n",
    "except Exception as e:\n",
    "    print(e)"
   ]
  },
  {
   "cell_type": "code",
   "execution_count": 19,
   "id": "e6406850",
   "metadata": {},
   "outputs": [],
   "source": [
    "# question 3\n",
    "# WAP to accept roll number , grade and percentage as input from the user and display it back\n"
   ]
  },
  {
   "cell_type": "code",
   "execution_count": 23,
   "id": "adace37d",
   "metadata": {},
   "outputs": [
    {
     "name": "stdout",
     "output_type": "stream",
     "text": [
      "enter your roll number45\n",
      "enter your grades45\n",
      "enter your percentage45\n",
      "your roll number is 45 and your grades are 45 with a percentage of 45\n"
     ]
    }
   ],
   "source": [
    "roll=str(input('enter your roll number'))\n",
    "grade=str(input('enter your grades'))\n",
    "percentage=str(input('enter your percentage'))\n",
    "\n",
    "print(\"your roll number is %s and your grades are %s with a percentage of %s\" %(roll,grade,percentage))"
   ]
  },
  {
   "cell_type": "code",
   "execution_count": 24,
   "id": "ae2a425f",
   "metadata": {},
   "outputs": [
    {
     "data": {
      "text/plain": [
       "'Write a program that asks the user to enter his/her name\\nand age. Print out a message , displaying the user’s name\\nalong with the year in which they will turn 100 years old.Write a program that asks the user to enter his/her name\\nand age. Print out a message , displaying the user’s name\\nalong with the year in which they will turn 100 years old.'"
      ]
     },
     "execution_count": 24,
     "metadata": {},
     "output_type": "execute_result"
    }
   ],
   "source": [
    "#question 4\n",
    "\"\"\"Write a program that asks the user to enter his/her name\n",
    "and age. Print out a message , displaying the user’s name\n",
    "along with the year in which they will turn 100 years old.Write a program that asks the user to enter his/her name\n",
    "and age. Print out a message , displaying the user’s name\n",
    "along with the year in which they will turn 100 years old.\"\"\""
   ]
  },
  {
   "cell_type": "code",
   "execution_count": 27,
   "id": "c99cde20",
   "metadata": {},
   "outputs": [
    {
     "name": "stdout",
     "output_type": "stream",
     "text": [
      "please enter your nameakshay\n",
      "please enter your age23\n",
      "your name is akshay and your age is 23\n",
      "you will turn 100 in the year:2099\n"
     ]
    }
   ],
   "source": [
    "current_year=2022\n",
    "name=str(input('please enter your name'))\n",
    "age=int(input('please enter your age'))\n",
    "diff=100-age\n",
    "age100=current_year+diff\n",
    "print('your name is {fname} and your age is {fage}'.format(fname=name,fage=age))\n",
    "print(f\"you will turn 100 in the year:{age100}\")"
   ]
  },
  {
   "cell_type": "code",
   "execution_count": 30,
   "id": "f7a9e003",
   "metadata": {},
   "outputs": [
    {
     "data": {
      "text/plain": [
       "'Write a program that asks the user to input 2 integers and\\nadds them . Accept both the numbers in a single line only\\n'"
      ]
     },
     "execution_count": 30,
     "metadata": {},
     "output_type": "execute_result"
    }
   ],
   "source": [
    "# question 5\n",
    "\"\"\"Write a program that asks the user to input 2 integers and\n",
    "adds them . Accept both the numbers in a single line only\n",
    "\"\"\"\n",
    "\n"
   ]
  },
  {
   "cell_type": "code",
   "execution_count": 31,
   "id": "10fdcd4d",
   "metadata": {},
   "outputs": [
    {
     "name": "stdout",
     "output_type": "stream",
     "text": [
      "enter the value of first number45\n",
      "enter the value of second number58\n",
      "103\n"
     ]
    }
   ],
   "source": [
    "a,b=int(input('enter the value of first number')),int(input('enter the value of second number'))\n",
    "print(a+b)\n"
   ]
  },
  {
   "cell_type": "code",
   "execution_count": 34,
   "id": "80b587a9",
   "metadata": {},
   "outputs": [
    {
     "name": "stdout",
     "output_type": "stream",
     "text": [
      "4 96\n",
      "100\n"
     ]
    }
   ],
   "source": [
    "#another way\n",
    "a,b=map(int,input().split())\n",
    "print(a+b)\n"
   ]
  },
  {
   "cell_type": "code",
   "execution_count": 38,
   "id": "6e1d09df",
   "metadata": {},
   "outputs": [
    {
     "name": "stdout",
     "output_type": "stream",
     "text": [
      "Input the value of a & b: 45 69\n",
      "The value of a & b are: 45 69\n",
      "114\n"
     ]
    }
   ],
   "source": [
    "a, b = [int(a) for a in input(\"Input the value of a & b: \").split()]\n",
    "print(\"The value of a & b are:\",a,b)\n",
    "print(a+b)\n"
   ]
  },
  {
   "cell_type": "code",
   "execution_count": 39,
   "id": "64e11746",
   "metadata": {},
   "outputs": [
    {
     "data": {
      "text/plain": [
       "\"Write a Python program which accepts the user's first and\\nlast name and print them in reverse order with a space\\nbetween them.\""
      ]
     },
     "execution_count": 39,
     "metadata": {},
     "output_type": "execute_result"
    }
   ],
   "source": [
    "# question 6\n",
    "\"\"\"Write a Python program which accepts the user's first and\n",
    "last name and print them in reverse order with a space\n",
    "between them.\"\"\""
   ]
  },
  {
   "cell_type": "code",
   "execution_count": 42,
   "id": "b84ac2bb",
   "metadata": {},
   "outputs": [
    {
     "name": "stdout",
     "output_type": "stream",
     "text": [
      "enter your first nameakshay\n",
      "enter your last namegoel\n",
      "your name in reverse order is yahska leog\n"
     ]
    }
   ],
   "source": [
    "first=input('enter your first name')\n",
    "last=input('enter your last name')\n",
    "print('your name in reverse order is {ns} {rt}'.format(ns=first[::-1],rt=last[::-1]))"
   ]
  },
  {
   "cell_type": "code",
   "execution_count": 45,
   "id": "99409fc2",
   "metadata": {},
   "outputs": [
    {
     "name": "stdout",
     "output_type": "stream",
     "text": [
      "please enter your first nameakshay\n",
      "pleaseb enter your last namegoel\n",
      "yahska leog\n"
     ]
    }
   ],
   "source": [
    "# another way\n",
    "first=input('please enter your first name')\n",
    "last=input('pleaseb enter your last name')\n",
    "a=\"\"\n",
    "for words in first:\n",
    "    a=words+a\n",
    "b=\"\"\n",
    "for words in last:\n",
    "    b=words+b\n",
    "    \n",
    "print(a,b,sep=\" \")\n"
   ]
  },
  {
   "cell_type": "code",
   "execution_count": null,
   "id": "c9bc88b2",
   "metadata": {},
   "outputs": [],
   "source": []
  }
 ],
 "metadata": {
  "kernelspec": {
   "display_name": "Python 3 (ipykernel)",
   "language": "python",
   "name": "python3"
  },
  "language_info": {
   "codemirror_mode": {
    "name": "ipython",
    "version": 3
   },
   "file_extension": ".py",
   "mimetype": "text/x-python",
   "name": "python",
   "nbconvert_exporter": "python",
   "pygments_lexer": "ipython3",
   "version": "3.9.13"
  }
 },
 "nbformat": 4,
 "nbformat_minor": 5
}
